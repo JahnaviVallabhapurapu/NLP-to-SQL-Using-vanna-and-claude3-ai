{
 "cells": [
  {
   "cell_type": "code",
   "execution_count": null,
   "metadata": {
    "metadata": {}
   },
   "outputs": [],
   "source": [
    "# we have to import Vanna and the anthropic Python library\n",
    "from vanna.vannadb.vannadb_vector import VannaDB_VectorStore\n",
    "from vanna.base import VannaBase\n",
    "from vanna.anthropic.anthropic_chat import Anthropic_Chat\n",
    "import pyodbc\n",
    "\n",
    "class MyVanna(VannaDB_VectorStore, Anthropic_Chat):\n",
    "    def __init__(self, config=None):\n",
    "        MY_VANNA_MODEL = 'j2v2_test'\n",
    "        # Your model name from https://vanna.ai/account/profile\n",
    "        VannaDB_VectorStore.__init__(self, vanna_model=MY_VANNA_MODEL, vanna_api_key= '<your vanna api key>', config=config)\n",
    "        Anthropic_Chat.__init__(self, config=config)\n",
    "\n",
    "api_key = '<your antropi api key>'\n",
    "# insert your API key\n",
    "# You can change models to any Anthropic model\n",
    "# You can use Sonnet and Haiku but this post uses Opus\n",
    "model = \"claude-3-opus-20240229\"\n",
    "config = {'api_key':api_key,'model':model}\n",
    "\n",
    "# Passes the configuration to MyVanna object\n",
    "vn = MyVanna(config=config)\n",
    "\n",
    "# connect to MSSQL driver \n",
    "vn.connect_to_mssql(odbc_conn_str='DRIVER={ODBC Driver 17 for SQL Server};SERVER=MSSQL_SERVER;DATABASE=northwind;UID=uid;PWD=password') # You can use the ODBC connection string here"
   ]
  },
  {
   "cell_type": "code",
   "execution_count": null,
   "metadata": {},
   "outputs": [],
   "source": [
    "import vanna\n",
    "from vanna.remote import VannaDefault\n",
    "from vanna.vannadb.vannadb_vector import VannaDB_VectorStore\n",
    "from vanna.base import VannaBase\n",
    "from vanna.anthropic.anthropic_chat import Anthropic_Chat\n",
    "import pyodbc\n",
    "\n",
    "class MyVanna(VannaDB_VectorStore, Anthropic_Chat):\n",
    "    def __init__(self, config=None):\n",
    "        MY_VANNA_MODEL = 'j2v2_test'\n",
    "        # Your model name from https://vanna.ai/account/profile\n",
    "        VannaDB_VectorStore.__init__(self, vanna_model=MY_VANNA_MODEL, vanna_api_key= '<your vanna api key>', config=config)\n",
    "        Anthropic_Chat.__init__(self, config=config)\n",
    "\n",
    "api_key = '<your antropi api key>'\n",
    "# insert your API key\n",
    "# You can change models to any Anthropic model\n",
    "# You can use Sonnet and Haiku but this post uses Opus\n",
    "model = \"chinook\"\n",
    "config = {'api_key':api_key,'model':model}\n",
    "\n",
    "# Passes the configuration to MyVanna object\n",
    "vn = MyVanna(config=config)\n",
    "# connect to mysql db\n",
    "vn.connect_to_mysql(host='localhost', dbname='Northwind', user='root', password='mypassword', port=33061)\n",
    "print(\"Successfully connected to the database\")\n",
    "# The information schema query may need some tweaking depending on your database. This is a good starting point.\n",
    "df_information_schema = vn.run_sql(\"SELECT * FROM INFORMATION_SCHEMA.COLUMNS\")\n",
    "\n",
    "# This will break up the information schema into bite-sized chunks that can be referenced by the LLM\n",
    "plan = vn.get_training_plan_generic(df_information_schema)\n",
    "plan\n",
    "\n",
    "# If you like the plan, then uncomment this and run it to train\n",
    "vn.train(plan=plan)"
   ]
  },
  {
   "cell_type": "code",
   "execution_count": null,
   "metadata": {},
   "outputs": [],
   "source": [
    "# You can train based on the DDL of the tables in the dB\n",
    "# Chinook \n",
    "vn.train(ddl=\"\"\"CREATE TABLE [Invoice]\n",
    "(\n",
    "    [InvoiceId] INTEGER  NOT NULL,\n",
    "    [CustomerId] INTEGER  NOT NULL,\n",
    "    [InvoiceDate] DATETIME  NOT NULL,\n",
    "    [BillingAddress] NVARCHAR(70),\n",
    "    [BillingCity] NVARCHAR(40),\n",
    "    [BillingState] NVARCHAR(40),\n",
    "    [BillingCountry] NVARCHAR(40),\n",
    "    [BillingPostalCode] NVARCHAR(10),\n",
    "    [Total] NUMERIC(10,2)  NOT NULL,\n",
    "    CONSTRAINT [PK_Invoice] PRIMARY KEY  ([InvoiceId]),\n",
    "    FOREIGN KEY ([CustomerId]) REFERENCES [Customer] ([CustomerId]) \n",
    "  ON DELETE NO ACTION ON UPDATE NO ACTION\n",
    ")\"\"\")"
   ]
  },
  {
   "cell_type": "code",
   "execution_count": null,
   "metadata": {},
   "outputs": [],
   "source": [
    "vn.get_training_data()"
   ]
  },
  {
   "cell_type": "code",
   "execution_count": null,
   "metadata": {},
   "outputs": [],
   "source": [
    "vn.ask(\"top 3 rows from Orders\")"
   ]
  },
  {
   "cell_type": "code",
   "execution_count": null,
   "metadata": {},
   "outputs": [],
   "source": [
    "vn.ask(\"What are the top 10 customers by sales?\")"
   ]
  }
 ],
 "metadata": {
  "kernelspec": {
   "display_name": "j2v2",
   "language": "python",
   "name": "python3"
  },
  "language_info": {
   "codemirror_mode": {
    "name": "ipython",
    "version": 3
   },
   "file_extension": ".py",
   "mimetype": "text/x-python",
   "name": "python",
   "nbconvert_exporter": "python",
   "pygments_lexer": "ipython3",
   "version": "3.11.3"
  }
 },
 "nbformat": 4,
 "nbformat_minor": 2
}
